{
  "nbformat": 4,
  "nbformat_minor": 0,
  "metadata": {
    "colab": {
      "provenance": [],
      "gpuType": "T4"
    },
    "kernelspec": {
      "name": "python3",
      "display_name": "Python 3"
    },
    "language_info": {
      "name": "python"
    },
    "accelerator": "GPU"
  },
  "cells": [
    {
      "cell_type": "code",
      "source": [
        "import pandas as pd\n",
        "import matplotlib.pyplot as plt\n",
        "import seaborn as sns\n",
        "from sklearn.feature_extraction.text import CountVectorizer, TfidfVectorizer\n",
        "from scipy.sparse import csr_matrix\n",
        "from google.colab import drive\n",
        "import torch\n",
        "import torch.nn as nn\n",
        "import torch.optim as optim\n",
        "from torch.utils.data import DataLoader, TensorDataset\n",
        "\n",
        "import torch.nn.functional as F\n",
        "import torch.optim as optim\n",
        "from torchtext.vocab import Vocab\n",
        "import random\n",
        "import numpy as np"
      ],
      "metadata": {
        "id": "UYkok76ROxwy"
      },
      "execution_count": null,
      "outputs": []
    },
    {
      "cell_type": "code",
      "source": [
        "#### STEP 1: Import the data\n",
        "drive.mount('/content/drive/')\n",
        "data_path = '/content/drive/My Drive/DeepLearning_2023/Final/Data/'\n",
        "results_path = '/content/drive/My Drive/DeepLearning_2023/Final/Results/'\n",
        "\n",
        "data = pd.read_csv(data_path+'Yelp.csv')"
      ],
      "metadata": {
        "colab": {
          "base_uri": "https://localhost:8080/"
        },
        "id": "C5_frqRXM04B",
        "outputId": "e7582009-b779-4d22-9908-d419ed685b7f"
      },
      "execution_count": null,
      "outputs": [
        {
          "output_type": "stream",
          "name": "stdout",
          "text": [
            "Mounted at /content/drive/\n"
          ]
        },
        {
          "output_type": "stream",
          "name": "stderr",
          "text": [
            "<ipython-input-2-2ac0fe2f227a>:6: DtypeWarning: Columns (4,5,6,7) have mixed types. Specify dtype option on import or set low_memory=False.\n",
            "  data = pd.read_csv(data_path+'Yelp.csv')\n"
          ]
        }
      ]
    },
    {
      "cell_type": "code",
      "execution_count": null,
      "metadata": {
        "colab": {
          "base_uri": "https://localhost:8080/",
          "height": 487
        },
        "id": "9UfXBpgjAgSs",
        "outputId": "63e7c3db-1bb2-42bc-a8fb-0979ba9488c4"
      },
      "outputs": [
        {
          "output_type": "display_data",
          "data": {
            "text/plain": [
              "<Figure size 500x500 with 1 Axes>"
            ],
            "image/png": "[encoded data removed]"
          },
          "metadata": {}
        }
      ],
      "source": [
        "#### STEP 2: See how many reviews we have of each sentiment\n",
        "data.sentiment.replace(1, 0, inplace=True)\n",
        "data.sentiment.replace(2, 1, inplace=True)\n",
        "\n",
        "# Calculate the count of each sentiment\n",
        "dist = data.groupby(\"sentiment\").size()\n",
        "\n",
        "# Create the bar plot\n",
        "fig, ax = plt.subplots(figsize=(5, 5))\n",
        "sns.barplot(x=dist.index, y=dist.values, ax=ax, palette = 'Purples')\n",
        "\n",
        "# Customize the plot\n",
        "ax.set_xlabel(\"Sentiment\")\n",
        "ax.set_ylabel(\"Count\")\n",
        "ax.set_title(\"Sentiment Distribution\")\n",
        "\n",
        "# Display the plot\n",
        "plt.show()"
      ]
    },
    {
      "cell_type": "code",
      "source": [
        "##### Fer un cop:\n",
        "import nltk\n",
        "nltk.download('stopwords')\n",
        "nltk.download('punkt')"
      ],
      "metadata": {
        "id": "yUqiZb4zCBV2",
        "colab": {
          "base_uri": "https://localhost:8080/"
        },
        "outputId": "2e59d60f-70a2-467b-b288-a851ef1ceb07"
      },
      "execution_count": null,
      "outputs": [
        {
          "output_type": "stream",
          "name": "stderr",
          "text": [
            "[nltk_data] Downloading package stopwords to /root/nltk_data...\n",
            "[nltk_data]   Unzipping corpora/stopwords.zip.\n",
            "[nltk_data] Downloading package punkt to /root/nltk_data...\n",
            "[nltk_data]   Unzipping tokenizers/punkt.zip.\n"
          ]
        },
        {
          "output_type": "execute_result",
          "data": {
            "text/plain": [
              "True"
            ]
          },
          "metadata": {},
          "execution_count": 4
        }
      ]
    },
    {
      "cell_type": "code",
      "source": [
        "import re\n",
        "from nltk.tokenize import word_tokenize\n",
        "from nltk.stem import PorterStemmer\n",
        "from nltk.corpus import stopwords\n",
        "stop_words = set(stopwords.words('english'))\n",
        "\n",
        "\n",
        "def normalize_text(text):\n",
        "    # Set all characters to lowercase\n",
        "    text = text.lower()\n",
        "    # Remove HTML tags\n",
        "    text = re.sub('<br />', '', text)\n",
        "    # Remove URLs\n",
        "    text = re.sub(r\"https\\S+|www\\S+|http\\S+\", '', text, flags = re.MULTILINE)\n",
        "    # Remove all punctuation marks\n",
        "    text = re.sub(r'[^a-zA-Z0-9\\s@#]', '', text)\n",
        "    # Break text into individual linguistic units\n",
        "    text_tokens = word_tokenize(text)\n",
        "    # Remove common words that are considered to be insignificant and reduce words to their base or root form\n",
        "    filtered_text = [PorterStemmer().stem(w) for w in text_tokens if w not in stop_words]\n",
        "    return \" \".join(filtered_text)\n",
        "\n",
        "#### STEP 3: Normalize the reviews\n",
        "data.review = data.review.apply(normalize_text)"
      ],
      "metadata": {
        "id": "R89HssyCBfk0"
      },
      "execution_count": null,
      "outputs": []
    },
    {
      "cell_type": "code",
      "source": [
        "import numpy as np\n",
        "import pandas as pd\n",
        "from tensorflow.keras.preprocessing.text import Tokenizer\n",
        "from tensorflow.keras.preprocessing.sequence import pad_sequences\n",
        "from tensorflow.keras.models import Sequential\n",
        "from collections import Counter\n",
        "\n",
        "\n",
        "# Extract reviews and sentiments from the DataFrame\n",
        "reviews = data['review'].values\n",
        "sentiments = data['sentiment'].values\n",
        "\n",
        "# Hyperparameters\n",
        "vocab_size = 25000  # Maximum number of unique words in the vocabulary\n",
        "max_length = 10  # Maximum length of each review sequence\n",
        "embedding_dim = 100  # Dimensionality of word embeddings\n",
        "\n",
        "# Tokenize the reviews\n",
        "# tokenizer = Tokenizer(num_words=vocab_size)\n",
        "tokenizer = Tokenizer(num_words=vocab_size, oov_token='<OOV>')\n",
        "tokenizer.fit_on_texts(reviews)\n",
        "sequences = tokenizer.texts_to_sequences(reviews)\n",
        "\n",
        "# Pad sequences to ensure equal length\n",
        "padded_sequences = pad_sequences(sequences, maxlen=max_length)\n",
        "\n",
        "# #### STEP 4: Split into train and test\n",
        "total_train = int(len(padded_sequences) * 0.75)\n",
        "total_test = int(len(padded_sequences) * 0.25)\n",
        "\n",
        "train_data_review = padded_sequences[:total_train]\n",
        "test_data_review = padded_sequences[total_train:]\n",
        "\n",
        "train_data_sentiment = sentiments[:total_train]\n",
        "test_data_sentiment = sentiments[total_train:]"
      ],
      "metadata": {
        "id": "BboRTILzhWD3"
      },
      "execution_count": null,
      "outputs": []
    },
    {
      "cell_type": "code",
      "source": [
        "#### STEP 6: Convert the data to tensors\n",
        "# train_data_review = np.hstack((train_data_review.reshape(-1, 1), train_data_sentiment.reshape(-1, 1)))\n",
        "train_r_tensor = torch.FloatTensor(train_data_review)\n",
        "train_s_tensor = torch.FloatTensor(train_data_sentiment)\n",
        "\n",
        "test_r_tensor = torch.FloatTensor(train_data_review)\n",
        "test_s_tensor = torch.FloatTensor(train_data_sentiment)\n",
        "\n",
        "# Create PyTorch datasets\n",
        "train_dataset = TensorDataset(train_r_tensor, train_s_tensor)\n",
        "\n",
        "# Create data loaders\n",
        "train_loader = DataLoader(train_dataset, batch_size=32, shuffle=True)\n",
        "# print(train_r_tensor)"
      ],
      "metadata": {
        "id": "geYjCBy9FF-A"
      },
      "execution_count": null,
      "outputs": []
    },
    {
      "cell_type": "code",
      "source": [
        "# Training loop\n",
        "def train(train_loader, criterion, optimizer, model, num_epochs):\n",
        " list_loss = []\n",
        " total_step = len(train_loader)\n",
        " for epoch in range(num_epochs):\n",
        "   temp = []\n",
        "   for i, (inputs, labels) in enumerate(train_loader):\n",
        "       # Forward pass\n",
        "       inputs = inputs.long()\n",
        "       outputs = model(inputs)\n",
        "       outputs = torch.sigmoid(outputs)  # Apply sigmoid activation\n",
        "       loss = criterion(outputs, labels.unsqueeze(1))\n",
        "       # Backward and optimize\n",
        "       optimizer.zero_grad()\n",
        "       loss.backward()\n",
        "       optimizer.step()\n",
        "       temp.append(loss.item())\n",
        "   if epoch == 0:\n",
        "     print ('Epoch [{}/{}], Loss: {:.4f}'.format(epoch, num_epochs, temp[0])) # Print the initial loss\n",
        "   l = min(temp)\n",
        "   print ('Epoch [{}/{}], Loss: {:.4f}'.format(epoch+1, num_epochs, l)) # Print the loss in each epoch\n",
        "   list_loss.append(l)\n",
        " return list_loss\n",
        "\n",
        "def test(model, test_data, test_labels):\n",
        "   model.eval()\n",
        "   with torch.no_grad():\n",
        "       outputs = model(test_data.long())\n",
        "       predicted = (outputs > 0.5).float()\n",
        "       accuracy = (predicted == test_labels.unsqueeze(1)).sum().item() / len(test_labels)\n",
        "       print('Test Accuracy of the model: {} %'.format(accuracy * 100))"
      ],
      "metadata": {
        "id": "lMfDSy1eytsU"
      },
      "execution_count": null,
      "outputs": []
    },
    {
      "cell_type": "code",
      "source": [
        "class MobNet(nn.Module):\n",
        "    def __init__(self, vocab_size, embedding_dim, n_filters, filter_sizes, output_dim,\n",
        "                 dropout, pad_idx):\n",
        "\n",
        "        super().__init__()\n",
        "\n",
        "        self.embedding = nn.Embedding(vocab_size, embedding_dim, padding_idx = pad_idx)\n",
        "\n",
        "        num_layers = 2\n",
        "        new_dim = int(embedding_dim / num_layers)\n",
        "\n",
        "        self.full = nn.ModuleList([\n",
        "            nn.Conv2d(in_channels = 1,\n",
        "                      out_channels = n_filters,\n",
        "                      kernel_size = (fs, embedding_dim))\n",
        "            for fs in filter_sizes\n",
        "            ])\n",
        "\n",
        "        self.depthwise = nn.ModuleList([\n",
        "            nn.Conv2d(in_channels = n_filters,\n",
        "                      out_channels = n_filters,\n",
        "                      kernel_size = (fs, 1),\n",
        "                      groups = 1)\n",
        "            for fs in filter_sizes\n",
        "            ])\n",
        "\n",
        "        self.bn = nn.BatchNorm2d(n_filters)\n",
        "        self.pointwise = nn.Conv2d(n_filters, n_filters, kernel_size = 1)\n",
        "\n",
        "        self.fc = nn.Linear(len(filter_sizes) * n_filters, output_dim)\n",
        "\n",
        "        self.dropout = nn.Dropout(dropout)\n",
        "        self.relu = nn.ReLU()\n",
        "        self.avgpool = nn.AvgPool2d(kernel_size=4, stride=2)\n",
        "\n",
        "    def depthwise_separable_convolution(self, embedded, fconv, dconv):\n",
        "\n",
        "      out = F.relu(self.bn(fconv(embedded)))\n",
        "\n",
        "      out = F.relu(self.bn(dconv(out)))\n",
        "      return F.relu(self.bn(self.pointwise(out))).squeeze(3)\n",
        "\n",
        "    def forward(self, x):\n",
        "\n",
        "        embedded = self.embedding(x)\n",
        "\n",
        "        embedded = embedded.unsqueeze(1)\n",
        "\n",
        "        conved = [self.depthwise_separable_convolution(embedded, self.full[i], self.depthwise[i]) for i in range(len(self.full))]\n",
        "\n",
        "        pooled = [F.avg_pool1d(conv, conv.shape[2]).squeeze(2) for conv in conved]\n",
        "\n",
        "        cat = self.dropout(torch.cat(pooled, dim = 1))\n",
        "\n",
        "        return self.fc(cat)"
      ],
      "metadata": {
        "id": "ub-vzU15TAMA"
      },
      "execution_count": null,
      "outputs": []
    },
    {
      "cell_type": "code",
      "source": [
        "#### STEP 8: # Instantiate the models\n",
        "embedding_dim = 100\n",
        "n_filters = 100\n",
        "filter_sizes = [3, 4, 5]\n",
        "output_dim = 1\n",
        "dropout = 0.5\n",
        "pad_idx = tokenizer.word_index['<OOV>']\n",
        "\n",
        "model = MobNet(vocab_size, embedding_dim, n_filters, filter_sizes, output_dim, dropout, pad_idx)\n",
        "\n",
        "# Define the loss function\n",
        "criterion = nn.BCELoss()\n",
        "\n",
        "# Define the optimizer\n",
        "optimizer = optim.Adam(model.parameters(), lr=0.01)\n",
        "\n",
        "#### STEP 9: Train the model\n",
        "\n",
        "list_loss = train(train_loader, criterion, optimizer, model, num_epochs = 20)\n",
        "plt.plot(list_loss)\n",
        "plt.xlabel('Iterations')\n",
        "plt.ylabel('Loss Val')"
      ],
      "metadata": {
        "id": "vkzI5f2nNpe2"
      },
      "execution_count": null,
      "outputs": []
    },
    {
      "cell_type": "code",
      "source": [
        "#### STEP 10: Evaluate the model\n",
        "accuracy = test(model, test_r_tensor, test_s_tensor)"
      ],
      "metadata": {
        "id": "DokDiQJ000Bq",
        "colab": {
          "base_uri": "https://localhost:8080/"
        },
        "outputId": "a83e3445-78a3-4326-f38e-287c1dde26e9"
      },
      "execution_count": null,
      "outputs": [
        {
          "output_type": "stream",
          "name": "stdout",
          "text": [
            "Test Accuracy of the model: 94.85688888888889 %\n"
          ]
        }
      ]
    },
    {
      "cell_type": "code",
      "source": [
        "#### Step 11: Test our model with a new user input\n",
        "import spacy\n",
        "nlp = spacy.load('en_core_web_sm')\n",
        "\n",
        "\n",
        "def predict_sentiment(model, sentence):\n",
        "   model.eval()\n",
        "   # Text normalization and tokenization\n",
        "   text = normalize_text(sentence)\n",
        "   sequence = tokenizer.texts_to_sequences([text])\n",
        "   padded_sequence = pad_sequences(sequence, maxlen=max_length)\n",
        "   r_tensor = torch.LongTensor(padded_sequence)\n",
        "   # Perform the prediction\n",
        "   with torch.no_grad():\n",
        "       prediction = model(r_tensor)\n",
        "  #  prediction = torch.sigmoid(prediction)\n",
        "   # Determine the sentiment based on the prediction\n",
        "   if prediction.item() > 0.5:\n",
        "       sentiment = 'Positive'\n",
        "   else:\n",
        "       sentiment = 'Negative'\n",
        "   return sentiment, prediction.item()\n",
        "\n",
        "\n",
        "review = \"Horrible, terrible, don't go there.\"\n",
        "result, score = predict_sentiment(model, review)\n",
        "print(\"Review:\", review)\n",
        "print(f\"Predicted Sentiment: {result}, {score}\")\n",
        "print(\"\\n\")\n",
        "review = \"Amazing, I love this place!\"\n",
        "result, score = predict_sentiment(model, review)\n",
        "print(\"Review:\", review)\n",
        "print(f\"Predicted Sentiment: {result}, {score}\")\n"
      ],
      "metadata": {
        "id": "mC_XXvItsYdm"
      },
      "execution_count": null,
      "outputs": []
    }
  ]
}