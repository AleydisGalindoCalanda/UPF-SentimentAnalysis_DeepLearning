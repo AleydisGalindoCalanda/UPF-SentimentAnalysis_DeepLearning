{
  "nbformat": 4,
  "nbformat_minor": 0,
  "metadata": {
    "colab": {
      "provenance": [],
      "gpuType": "T4"
    },
    "kernelspec": {
      "name": "python3",
      "display_name": "Python 3"
    },
    "language_info": {
      "name": "python"
    },
    "accelerator": "GPU"
  },
  "cells": [
    {
      "cell_type": "code",
      "source": [
        "import pandas as pd\n",
        "import matplotlib.pyplot as plt\n",
        "import seaborn as sns\n",
        "from sklearn.feature_extraction.text import CountVectorizer, TfidfVectorizer\n",
        "from scipy.sparse import csr_matrix\n",
        "from google.colab import drive\n",
        "import torch\n",
        "import torch.nn as nn\n",
        "import torch.optim as optim\n",
        "from torch.utils.data import DataLoader, TensorDataset\n",
        "import numpy as np"
      ],
      "metadata": {
        "id": "UYkok76ROxwy"
      },
      "execution_count": null,
      "outputs": []
    },
    {
      "cell_type": "code",
      "source": [
        "#### STEP 1: Import the data\n",
        "drive.mount('/content/drive/')\n",
        "data_path = '/content/drive/My Drive/DeepLearning_2023/Final/Data/'\n",
        "results_path = '/content/drive/My Drive/DeepLearning_2023/Final/Results/'\n",
        "\n",
        "data = pd.read_csv(data_path+'Yelp.csv')"
      ],
      "metadata": {
        "colab": {
          "base_uri": "https://localhost:8080/"
        },
        "id": "C5_frqRXM04B",
        "outputId": "d0c8bedb-3825-4c17-d9a8-1c0558c9dbc5"
      },
      "execution_count": null,
      "outputs": [
        {
          "output_type": "stream",
          "name": "stdout",
          "text": [
            "Mounted at /content/drive/\n"
          ]
        },
        {
          "output_type": "stream",
          "name": "stderr",
          "text": [
            "<ipython-input-2-2ac0fe2f227a>:6: DtypeWarning: Columns (4,5,6,7) have mixed types. Specify dtype option on import or set low_memory=False.\n",
            "  data = pd.read_csv(data_path+'Yelp.csv')\n"
          ]
        }
      ]
    },
    {
      "cell_type": "code",
      "execution_count": null,
      "metadata": {
        "colab": {
          "base_uri": "https://localhost:8080/",
          "height": 487
        },
        "id": "9UfXBpgjAgSs",
        "outputId": "53fb7b3c-be45-4300-ec0c-9c2dce15dbc9"
      },
      "outputs": [
        {
          "output_type": "display_data",
          "data": {
            "text/plain": [
              "<Figure size 500x500 with 1 Axes>"
            ],
            "image/png": "[encoded data removed]"
          },
          "metadata": {}
        }
      ],
      "source": [
        "#### STEP 2: See how many reviews we have of each sentiment\n",
        "data.sentiment.replace(1, 0, inplace=True)\n",
        "data.sentiment.replace(2, 1, inplace=True)\n",
        "\n",
        "# Calculate the count of each sentiment\n",
        "dist = data.groupby(\"sentiment\").size()\n",
        "\n",
        "# Create the bar plot\n",
        "fig, ax = plt.subplots(figsize=(5, 5))\n",
        "sns.barplot(x=dist.index, y=dist.values, ax=ax, palette = 'Purples')\n",
        "\n",
        "# Customize the plot\n",
        "ax.set_xlabel(\"Sentiment\")\n",
        "ax.set_ylabel(\"Count\")\n",
        "ax.set_title(\"Sentiment Distribution\")\n",
        "\n",
        "# Display the plot\n",
        "plt.show()"
      ]
    },
    {
      "cell_type": "code",
      "source": [
        "import nltk\n",
        "nltk.download('stopwords')\n",
        "nltk.download('punkt')"
      ],
      "metadata": {
        "id": "yUqiZb4zCBV2",
        "colab": {
          "base_uri": "https://localhost:8080/"
        },
        "outputId": "3af98648-c6c2-4fe3-eaad-2636fa338aad"
      },
      "execution_count": null,
      "outputs": [
        {
          "output_type": "stream",
          "name": "stderr",
          "text": [
            "[nltk_data] Downloading package stopwords to /root/nltk_data...\n",
            "[nltk_data]   Unzipping corpora/stopwords.zip.\n",
            "[nltk_data] Downloading package punkt to /root/nltk_data...\n",
            "[nltk_data]   Unzipping tokenizers/punkt.zip.\n"
          ]
        },
        {
          "output_type": "execute_result",
          "data": {
            "text/plain": [
              "True"
            ]
          },
          "metadata": {},
          "execution_count": 4
        }
      ]
    },
    {
      "cell_type": "code",
      "source": [
        "import re\n",
        "from nltk.tokenize import word_tokenize\n",
        "from nltk.stem import PorterStemmer\n",
        "from nltk.corpus import stopwords\n",
        "stop_words = set(stopwords.words('english'))\n",
        "\n",
        "\n",
        "def normalize_text(text):\n",
        "  # Set all characters to lowercase\n",
        "  text = text.lower()\n",
        "  # Remove HTML tags\n",
        "  text = re.sub('<br />', '', text)\n",
        "  # Remove URLs\n",
        "  text = re.sub(r\"https\\S+|www\\S+|http\\S+\", '', text, flags = re.MULTILINE)\n",
        "  # Remove all punctuation marks\n",
        "  text = re.sub(r'[^a-zA-Z0-9\\s@#]', '', text)\n",
        "  # Break text into individual linguistic units\n",
        "  text_tokens = word_tokenize(text)\n",
        "  # Remove common words that are considered to be insignificant and reduce words to their base or root form\n",
        "  filtered_text = [PorterStemmer().stem(w) for w in text_tokens if w not in stop_words]\n",
        "  return \" \".join(filtered_text)\n",
        "\n",
        "#### STEP 3: Normalize the reviews\n",
        "data.review = data.review.apply(normalize_text)"
      ],
      "metadata": {
        "id": "R89HssyCBfk0"
      },
      "execution_count": null,
      "outputs": []
    },
    {
      "cell_type": "code",
      "source": [
        "from tensorflow.keras.preprocessing.text import Tokenizer\n",
        "from tensorflow.keras.preprocessing.sequence import pad_sequences\n",
        "from tensorflow.keras.models import Sequential\n",
        "\n",
        "# Extract reviews and sentiments from the DataFrame\n",
        "reviews = data['review'].values\n",
        "sentiments = data['sentiment'].values\n",
        "\n",
        "# Hyperparameters\n",
        "vocab_size = 25000\n",
        "max_length = 10  # Maximum length of each review sequence\n",
        "embedding_dim = 100  # Dimensionality of word embeddings\n",
        "\n",
        "# Tokenize the reviews\n",
        "tokenizer = Tokenizer(num_words=vocab_size)\n",
        "tokenizer.fit_on_texts(reviews)\n",
        "sequences = tokenizer.texts_to_sequences(reviews)\n",
        "\n",
        "# Pad sequences to ensure equal length\n",
        "padded_sequences = pad_sequences(sequences, maxlen=max_length)\n",
        "\n",
        "# #### STEP 4: Split into train and test\n",
        "total_train = int(len(padded_sequences) * 0.75)\n",
        "total_test = int(len(padded_sequences) * 0.25)\n",
        "\n",
        "train_data_review = padded_sequences[:total_train]\n",
        "test_data_review = padded_sequences[total_train:]\n",
        "\n",
        "train_data_sentiment = sentiments[:total_train]\n",
        "test_data_sentiment = sentiments[total_train:]"
      ],
      "metadata": {
        "id": "BboRTILzhWD3"
      },
      "execution_count": null,
      "outputs": []
    },
    {
      "cell_type": "code",
      "source": [
        "#### STEP 6: Convert the data to tensors\n",
        "\n",
        "train_r_tensor = torch.FloatTensor(train_data_review)\n",
        "train_s_tensor = torch.FloatTensor(train_data_sentiment)\n",
        "\n",
        "test_r_tensor = torch.FloatTensor(train_data_review)\n",
        "test_s_tensor = torch.FloatTensor(train_data_sentiment)\n",
        "\n",
        "# Create PyTorch datasets\n",
        "train_dataset = TensorDataset(train_r_tensor, train_s_tensor)\n",
        "\n",
        "# Create data loaders\n",
        "train_loader = DataLoader(train_dataset, batch_size=32, shuffle=True)"
      ],
      "metadata": {
        "id": "geYjCBy9FF-A"
      },
      "execution_count": null,
      "outputs": []
    },
    {
      "cell_type": "code",
      "source": [
        "# Training loop\n",
        "def train(train_loader, criterion, optimizer, model, num_epochs):\n",
        " list_loss = []\n",
        " total_step = len(train_loader)\n",
        " for epoch in range(num_epochs):\n",
        "   temp = []\n",
        "   for i, (inputs, labels) in enumerate(train_loader):\n",
        "       # Forward pass\n",
        "       inputs = inputs.long()\n",
        "       outputs = model(inputs)\n",
        "       loss = criterion(outputs, labels.unsqueeze(1))\n",
        "       # Backward and optimize\n",
        "       optimizer.zero_grad()\n",
        "       loss.backward()\n",
        "       optimizer.step()\n",
        "       temp.append(loss.item())\n",
        "   if epoch == 0:\n",
        "     print ('Epoch [{}/{}], Loss: {:.4f}'.format(epoch, num_epochs, temp[0])) # Print the initial loss\n",
        "   l = min(temp)\n",
        "   print ('Epoch [{}/{}], Loss: {:.4f}'.format(epoch+1, num_epochs, l)) # Print the loss in each epoch\n",
        "   list_loss.append(l)\n",
        " return list_loss\n",
        "\n",
        "def test(model, test_data, test_labels):\n",
        "   model.eval()\n",
        "   with torch.no_grad():\n",
        "       outputs = model(test_data.long())\n",
        "       predicted = (outputs > 0.5).float()\n",
        "       accuracy = (predicted == test_labels.unsqueeze(1)).sum().item() / len(test_labels)\n",
        "       print('Test Accuracy of the model: {} %'.format(accuracy * 100))"
      ],
      "metadata": {
        "id": "f6H32vH6YS12"
      },
      "execution_count": null,
      "outputs": []
    },
    {
      "cell_type": "code",
      "source": [
        "#### STEP 7: Prepare the deep learning model\n",
        "class SentimentModel(nn.Module):\n",
        "    def __init__(self, vocab_size, embedding_dim, input_dim):\n",
        "        super(SentimentModel, self).__init__()\n",
        "        self.embedding = nn.Embedding(vocab_size, embedding_dim)\n",
        "        self.fc1 = nn.Linear(embedding_dim * input_dim, 64)\n",
        "        self.fc2 = nn.Linear(64, 1)\n",
        "        self.sigmoid = nn.Sigmoid()\n",
        "\n",
        "    def forward(self, x):\n",
        "        embedded = self.embedding(x)\n",
        "        embedded = embedded.view(x.size(0), -1)  # Reshape the embedded tensor\n",
        "        x = torch.relu(self.fc1(embedded))\n",
        "        x = self.sigmoid(self.fc2(x))\n",
        "        return x\n",
        "\n",
        "#### STEP 8: # Instantiate the models (we will make two models, one for BoW and one for TF_IDF)\n",
        "embedding_dim = 100\n",
        "input_dim = train_data_review.shape[1]\n",
        "model = SentimentModel(vocab_size, embedding_dim, input_dim)\n",
        "\n",
        "# Define the loss function\n",
        "criterion = nn.BCELoss()\n",
        "\n",
        "# Define the optimizer\n",
        "optimizer = optim.Adam(model.parameters(), lr=0.01)\n",
        "\n",
        "#### STEP 9: Train the model\n",
        "list_loss = train(train_loader, criterion, optimizer, model, num_epochs = 20)\n",
        "plt.plot(list_loss)\n",
        "plt.xlabel('Iterations')\n",
        "plt.ylabel('Loss Val')\n"
      ],
      "metadata": {
        "id": "vkzI5f2nNpe2",
        "colab": {
          "base_uri": "https://localhost:8080/",
          "height": 855
        },
        "outputId": "2b2a0b61-9976-4ec8-87f9-d21f61cd77e6"
      },
      "execution_count": null,
      "outputs": [
        {
          "output_type": "stream",
          "name": "stdout",
          "text": [
            "Epoch [0/20], Loss: 0.6884\n",
            "Epoch [1/20], Loss: 0.2250\n",
            "Epoch [2/20], Loss: 0.1321\n",
            "Epoch [3/20], Loss: 0.0931\n",
            "Epoch [4/20], Loss: 0.0444\n",
            "Epoch [5/20], Loss: 0.0239\n",
            "Epoch [6/20], Loss: 0.0254\n",
            "Epoch [7/20], Loss: 0.0060\n",
            "Epoch [8/20], Loss: 0.0057\n",
            "Epoch [9/20], Loss: 0.0078\n",
            "Epoch [10/20], Loss: 0.0030\n",
            "Epoch [11/20], Loss: 0.0005\n",
            "Epoch [12/20], Loss: 0.0001\n",
            "Epoch [13/20], Loss: 0.0013\n",
            "Epoch [14/20], Loss: 0.0001\n",
            "Epoch [15/20], Loss: 0.0002\n",
            "Epoch [16/20], Loss: 0.0001\n",
            "Epoch [17/20], Loss: 0.0001\n",
            "Epoch [18/20], Loss: 0.0000\n",
            "Epoch [19/20], Loss: 0.0001\n",
            "Epoch [20/20], Loss: 0.0001\n"
          ]
        },
        {
          "output_type": "execute_result",
          "data": {
            "text/plain": [
              "Text(0, 0.5, 'Loss Val')"
            ]
          },
          "metadata": {},
          "execution_count": 9
        },
        {
          "output_type": "display_data",
          "data": {
            "text/plain": [
              "<Figure size 640x480 with 1 Axes>"
            ],
            "image/png": "[encoded data removed]"
          },
          "metadata": {}
        }
      ]
    },
    {
      "cell_type": "code",
      "source": [
        "#### STEP 10: Evaluate the model\n",
        "accuracy = test(model, test_r_tensor, test_s_tensor)"
      ],
      "metadata": {
        "id": "DokDiQJ000Bq",
        "colab": {
          "base_uri": "https://localhost:8080/"
        },
        "outputId": "dc98a817-1736-4696-8e1c-a938baa8c35c"
      },
      "execution_count": null,
      "outputs": [
        {
          "output_type": "stream",
          "name": "stdout",
          "text": [
            "Test Accuracy of the model: 92.35733333333333 %\n"
          ]
        }
      ]
    },
    {
      "cell_type": "code",
      "source": [
        "#### Step 11: Test our model with a new user input\n",
        "import spacy\n",
        "nlp = spacy.load('en_core_web_sm')\n",
        "\n",
        "def predict_sentiment(model, sentence):\n",
        "    model.eval()\n",
        "    # Text normalization and tokenization\n",
        "    text = normalize_text(sentence)\n",
        "    sequence = tokenizer.texts_to_sequences([text])\n",
        "    padded_sequence = pad_sequences(sequence, maxlen=max_length)\n",
        "    r_tensor = torch.LongTensor(padded_sequence)\n",
        "    # Perform the prediction\n",
        "    with torch.no_grad():\n",
        "        prediction = model(r_tensor)\n",
        "    # Determine the sentiment based on the prediction\n",
        "    if prediction.item() > 0.5:\n",
        "        sentiment = 'Positive'\n",
        "    else:\n",
        "        sentiment = 'Negative'\n",
        "    return sentiment, prediction.item()\n",
        "\n",
        "review = \"Horrible, terrible, don't go there.\"\n",
        "result, score = predict_sentiment(model, review)\n",
        "print(\"Review:\", review)\n",
        "print(f\"Predicted Sentiment: {result}, {score}\")\n",
        "print(\"\\n\")\n",
        "review = \"Amazing, I love this place!\"\n",
        "result, score = predict_sentiment(model, review)\n",
        "print(\"Review:\", review)\n",
        "print(f\"Predicted Sentiment: {result}, {score}\")"
      ],
      "metadata": {
        "id": "ljCID4c4fcM6",
        "colab": {
          "base_uri": "https://localhost:8080/"
        },
        "outputId": "a5cbd29c-fec4-41f0-89db-5bb1d2424eb4"
      },
      "execution_count": null,
      "outputs": [
        {
          "output_type": "stream",
          "name": "stdout",
          "text": [
            "Review: Horrible, terrible, don't go there.\n",
            "Predicted Sentiment: Negative, 0.0\n",
            "\n",
            "\n",
            "Review: Amazing, I love this place!\n",
            "Predicted Sentiment: Positive, 0.9999920129776001\n"
          ]
        }
      ]
    }
  ]
}